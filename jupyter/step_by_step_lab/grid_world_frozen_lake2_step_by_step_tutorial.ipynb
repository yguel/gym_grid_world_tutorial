{
 "cells": [
  {
   "cell_type": "code",
   "execution_count": 1,
   "id": "e9ba7828-8ffe-45a3-b059-381e9ea72b49",
   "metadata": {},
   "outputs": [],
   "source": [
    "import gymnasium as gym\n",
    "from gymnasium import RewardWrapper\n",
    "import pygame\n",
    "import sys\n",
    "import os\n",
    "frozen_lake2_path = os.path.abspath(\"../../gym_grid_world_tutorial\")\n",
    "sys.path.append(frozen_lake2_path)\n",
    "from frozen_lake2 import FrozenLake2Env\n",
    "from typing import Optional\n",
    "\n",
    "from pathlib import Path\n",
    "from typing import NamedTuple\n",
    "\n",
    "import matplotlib.pyplot as plt\n",
    "import numpy as np\n",
    "import pandas as pd\n",
    "\n",
    "from plot_utils import plot_env, plot_env_coords, plot_val, plot_val_coords, set_savefig_folder\n",
    "\n",
    "\n",
    "class Params(NamedTuple):\n",
    "    total_episodes: int  # Total episodes\n",
    "    learning_rate: float  # Learning rate\n",
    "    gamma: float  # Discounting rate\n",
    "    epsilon: float  # Exploration probability\n",
    "    map_row_size: int  # Number of rows of the environment\n",
    "    map_col_size: int # Number of columns of the environment\n",
    "    seed: int  # Define a seed so that we get reproducible results\n",
    "    is_slippery: bool  # If true the player will move in intended direction with probability of 1/3 else will move in either perpendicular direction with equal probability of 1/3 in both directions\n",
    "    n_runs: int  # Number of runs\n",
    "    action_size: int  # Number of possible actions\n",
    "    state_size: int  # Number of possible states\n",
    "    proba_frozen: float  # Probability that a tile is frozen\n",
    "    savefig_folder: Path  # Root folder where plots are saved"
   ]
  },
  {
   "cell_type": "code",
   "execution_count": 2,
   "id": "b001da86-a1d4-43b4-9d07-ee71661bbf91",
   "metadata": {},
   "outputs": [
    {
     "name": "stdout",
     "output_type": "stream",
     "text": [
      "Action space: Discrete(4)\n",
      "State space: Discrete(12)\n"
     ]
    },
    {
     "ename": "AttributeError",
     "evalue": "can't set attribute",
     "output_type": "error",
     "traceback": [
      "\u001b[0;31m---------------------------------------------------------------------------\u001b[0m",
      "\u001b[0;31mAttributeError\u001b[0m                            Traceback (most recent call last)",
      "Cell \u001b[0;32mIn[2], line 30\u001b[0m\n\u001b[1;32m     28\u001b[0m \u001b[38;5;66;03m# Create the figure folder if it doesn't exists\u001b[39;00m\n\u001b[1;32m     29\u001b[0m params\u001b[38;5;241m.\u001b[39msavefig_folder\u001b[38;5;241m.\u001b[39mmkdir(parents\u001b[38;5;241m=\u001b[39m\u001b[38;5;28;01mTrue\u001b[39;00m, exist_ok\u001b[38;5;241m=\u001b[39m\u001b[38;5;28;01mTrue\u001b[39;00m)\n\u001b[0;32m---> 30\u001b[0m \u001b[43mset_savefig_folder\u001b[49m\u001b[43m(\u001b[49m\u001b[43mparams\u001b[49m\u001b[38;5;241;43m.\u001b[39;49m\u001b[43msavefig_folder\u001b[49m\u001b[43m)\u001b[49m\n",
      "File \u001b[0;32m/media/manu/manuLinux/code/sources.yguel/python/ia/reinforcement_learning/gym_grid_world_tutorial/gym_grid_world_tutorial/plot_utils.py:13\u001b[0m, in \u001b[0;36mset_savefig_folder\u001b[0;34m(folder)\u001b[0m\n\u001b[1;32m     12\u001b[0m \u001b[38;5;28;01mdef\u001b[39;00m \u001b[38;5;21mset_savefig_folder\u001b[39m(folder: Path):\n\u001b[0;32m---> 13\u001b[0m     \u001b[43mparams\u001b[49m\u001b[38;5;241;43m.\u001b[39;49m\u001b[43msavefig_folder\u001b[49m \u001b[38;5;241m=\u001b[39m folder\n",
      "\u001b[0;31mAttributeError\u001b[0m: can't set attribute"
     ]
    }
   ],
   "source": [
    "desc = [\"FFFG\",\"FBFH\",\"SFFF\"]\n",
    "env = FrozenLake2Env(\n",
    "    render_mode=\"rgb_array\", \n",
    "    desc=desc, \n",
    "    map_name=\"3x4\", \n",
    "    is_slippery=False)\n",
    "print(f\"Action space: {env.action_space}\")\n",
    "print(f\"State space: {env.observation_space}\")\n",
    "\n",
    "env.reset()\n",
    "\n",
    "params = Params(\n",
    "    total_episodes=2000,\n",
    "    learning_rate=0.8,\n",
    "    gamma=0.95,\n",
    "    epsilon=0.1,\n",
    "    map_row_size=len(desc),\n",
    "    map_col_size=len(desc[0]),\n",
    "    seed=123,\n",
    "    is_slippery=False,\n",
    "    n_runs=20,\n",
    "    action_size=None,\n",
    "    state_size=None,\n",
    "    proba_frozen=0.9,\n",
    "    savefig_folder=Path(\"./img/step_by_step_tutorial/\")\n",
    ")\n",
    "\n",
    "# Create the figure folder if it doesn't exists\n",
    "params.savefig_folder.mkdir(parents=True, exist_ok=True)\n",
    "set_savefig_folder(params.savefig_folder)"
   ]
  },
  {
   "cell_type": "code",
   "execution_count": null,
   "id": "715796e3-923f-4a6b-8a7a-802eb42368d9",
   "metadata": {},
   "outputs": [],
   "source": [
    "plot_env_coords(env)"
   ]
  },
  {
   "cell_type": "code",
   "execution_count": null,
   "id": "f4fd8bce-269a-4fcb-ab15-4bcffddaf3e9",
   "metadata": {},
   "outputs": [],
   "source": [
    "desc2 = [\"FFFFFFG\",\"BFFBBFH\",\"SFFFFFF\",\"FFHHHHH\"]\n",
    "env2 = FrozenLake2Env(\n",
    "    render_mode=\"rgb_array\", \n",
    "    desc=desc2, \n",
    "    map_name=\"4x7\", \n",
    "    is_slippery=False)\n",
    "print(f\"Action space: {env2.action_space}\")\n",
    "print(f\"State space: {env2.observation_space}\")\n",
    "\n",
    "env2.reset()"
   ]
  },
  {
   "cell_type": "code",
   "execution_count": null,
   "id": "570b43cb-f402-4bd7-9fab-7a34f851be76",
   "metadata": {},
   "outputs": [],
   "source": [
    "plot_env(env2)"
   ]
  },
  {
   "cell_type": "code",
   "execution_count": null,
   "id": "703ca7c7-80a3-483d-94c8-e7a12889a193",
   "metadata": {},
   "outputs": [],
   "source": [
    "vbounds = (-1.,1.)"
   ]
  },
  {
   "cell_type": "code",
   "execution_count": null,
   "id": "c44fb98b-c46c-4066-aaa9-1ea3d9fb7de8",
   "metadata": {},
   "outputs": [],
   "source": [
    "def rewards_ft(cell_type):\n",
    "    if cell_type == b\"H\":\n",
    "        return -1.0\n",
    "    elif cell_type == b\"G\":\n",
    "        return 1.0\n",
    "    else:\n",
    "        return 0.0\n",
    "\n",
    "def rewards_f(row:int, col:int):\n",
    "    cell_type = env.desc[row,col]\n",
    "    return rewards_ft(cell_type)"
   ]
  },
  {
   "cell_type": "code",
   "execution_count": null,
   "id": "20424780-63bf-4a65-b538-60c51c5671f7",
   "metadata": {},
   "outputs": [],
   "source": [
    "print([rewards_f(r,3) for r in range(3)])"
   ]
  },
  {
   "cell_type": "code",
   "execution_count": null,
   "id": "6778e29a-8d63-4c23-a621-5b3f579f3c31",
   "metadata": {},
   "outputs": [],
   "source": [
    "def transition_determinist(coords,action,next_coords) -> float:\n",
    "    next = env.transition_coordinates(coords[0],coords[1],action)\n",
    "    return 1.0 if next == next_coords else 0.0"
   ]
  },
  {
   "cell_type": "code",
   "execution_count": null,
   "id": "466dd3fe-ceb1-4f50-9041-a0d53c75a4b1",
   "metadata": {},
   "outputs": [],
   "source": [
    "from rl_agent import RlAgent\n",
    "agent = RlAgent(env,rewards_ft,vbounds,transition_determinist,gamma=0.9)\n",
    "agent.init_values_2_tabs()\n",
    "agent.compute_next_values()\n",
    "plot_val(env=env,values=agent.values,minmax=vbounds)"
   ]
  },
  {
   "cell_type": "code",
   "execution_count": null,
   "id": "0893040f-67b2-42ef-ab0a-ff56505b21b5",
   "metadata": {},
   "outputs": [],
   "source": [
    "agent.compute_next_values()\n",
    "plot_val(env=env,values=agent.values,minmax=vbounds)"
   ]
  },
  {
   "cell_type": "code",
   "execution_count": null,
   "id": "c576f581-5297-459c-a95d-5710c8a3934f",
   "metadata": {},
   "outputs": [],
   "source": [
    "for i in range(10):\n",
    "    agent.compute_next_values()\n",
    "    plot_val(env=env,values=agent.values,minmax=vbounds)"
   ]
  },
  {
   "cell_type": "code",
   "execution_count": null,
   "id": "5cc92193-9005-47af-bfab-474c48bc927c",
   "metadata": {},
   "outputs": [],
   "source": []
  }
 ],
 "metadata": {
  "kernelspec": {
   "display_name": "Python 3 (ipykernel)",
   "language": "python",
   "name": "python3"
  },
  "language_info": {
   "codemirror_mode": {
    "name": "ipython",
    "version": 3
   },
   "file_extension": ".py",
   "mimetype": "text/x-python",
   "name": "python",
   "nbconvert_exporter": "python",
   "pygments_lexer": "ipython3",
   "version": "3.12.6"
  }
 },
 "nbformat": 4,
 "nbformat_minor": 5
}
